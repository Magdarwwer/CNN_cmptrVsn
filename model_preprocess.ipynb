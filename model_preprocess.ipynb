{
 "cells": [
  {
   "cell_type": "markdown",
   "id": "cb64ece4",
   "metadata": {},
   "source": [
    "This is Jupyter file with image preprocessing and model for recognizing specific product."
   ]
  },
  {
   "cell_type": "markdown",
   "id": "ea17057e",
   "metadata": {},
   "source": [
    "In this example, we will try to recognize nicotine products. Model will recognize: Product Type, Product Package Type, Brand Family, Brand Subfamilly (that let's us define/ recognize specific one and only existing product)"
   ]
  },
  {
   "cell_type": "code",
   "execution_count": null,
   "id": "4cd5dfbe",
   "metadata": {
    "vscode": {
     "languageId": "plaintext"
    }
   },
   "outputs": [],
   "source": [
    "#Importing libraries\n",
    "import numpy as np \n",
    "import pandas as pd \n",
    "import matplotlib.pyplot as plt \n",
    "import seaborn as sns \n",
    "import tensorflow as tf \n",
    "import os\n",
    "import cv2\n",
    "from keras_preprocessing.image import ImageDataGenerator\n",
    "from sklearn.model_selection import train_test_split\n",
    "from tensorflow.keras.application import ResNet50\n",
    "from tensorflow.keras.layers import Dense, Flatten\n",
    "from tensorflow.keras.models impotr Model \n",
    "from tensorflow.keras.optimizers import Adam\n",
    "from tensorflow.keras.preprocessing.image import load_img, img_to_array\n",
    "from sklearn.preprocessing import LabelEncoder\n",
    "from keras.utils import to_categorical\n",
    "import pytesseract # OCR\n",
    "from pytesseract import Output"
   ]
  },
  {
   "cell_type": "code",
   "execution_count": null,
   "id": "6fda6713",
   "metadata": {
    "vscode": {
     "languageId": "plaintext"
    }
   },
   "outputs": [],
   "source": [
    "#Step 2 - set Paths & configuration:\n",
    "image_directory = XXX\n",
    "image_size = (224,224) #Standarizing image dimension for training\n",
    "batch_size = 32"
   ]
  },
  {
   "cell_type": "code",
   "execution_count": null,
   "id": "37886c79",
   "metadata": {
    "vscode": {
     "languageId": "plaintext"
    }
   },
   "outputs": [],
   "source": [
    "#Load the metadata\n",
    "metadata = pd.read_csv(PATH)\n",
    "metadata['prduct_category'] = metadata['product_category'].astype(str).fillna('')\n",
    "metadata['pack_type'] = metadata['pack_type'].astype(str).fillna('')\n",
    "metadata['brand_family'] = metadata['brand_family'].astype(str).fillna('')\n",
    "metadata['brand_differentiator'] = metadata['brand_differentiator'].astype(str).fillna('')\n",
    "\n",
    "#Display the data types of the columns in the metadata dataframe:\n",
    "print(metadata.dtypes)\n",
    "\n",
    "#Save the corrected metadata to a new CSV file:\n",
    "corrected_metadata_file = NEW PATH #modify here!!!!!!!!\n",
    "metadata.to_csv\n",
    "\n",
    "#Display the first few rows of the dataframe to verify the changes:\n",
    "print(metadata.head())\n",
    "\n"
   ]
  },
  {
   "cell_type": "code",
   "execution_count": null,
   "id": "ec513f8c",
   "metadata": {
    "vscode": {
     "languageId": "plaintext"
    }
   },
   "outputs": [],
   "source": [
    "for col in ['product_category', 'pack_type', 'brand_family', ''brand_differentiator]:\n",
    "    print(f\"{col}: {metadata[col].nunique()} unikalnych klas)"
   ]
  },
  {
   "cell_type": "code",
   "execution_count": null,
   "id": "e1223f06",
   "metadata": {
    "vscode": {
     "languageId": "plaintext"
    }
   },
   "outputs": [],
   "source": [
    "#Step 3 Data Preprocessing - Preprocessing images: rescale pixel values, split dataset into training and validation\n",
    "#A dd PATH TO META DATA!!!!!!!!!!!!!!!GENERATE LABELS!!!\n",
    "metadata =pd.read_csv(METADATAPATH!!!!!)\n",
    "metadata['brand_family'] = metadata['brand_family'].astype(str).fillna('')\n",
    "metadata['brand_differentiator'] = metadata['brand_differentiator'].astype(str).fillna('')\n",
    "\n",
    "def convert_jfif_to_jpg(image_path):\n",
    "    if image_path.endswith('.jfif'):\n",
    "    \n"
   ]
  }
 ],
 "metadata": {
  "language_info": {
   "name": "python"
  }
 },
 "nbformat": 4,
 "nbformat_minor": 5
}
