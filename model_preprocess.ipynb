{
 "cells": [
  {
   "cell_type": "markdown",
   "id": "cb64ece4",
   "metadata": {},
   "source": [
    "This is Jupyter file with image preprocessing and model for recognizing specific product."
   ]
  },
  {
   "cell_type": "markdown",
   "id": "ea17057e",
   "metadata": {},
   "source": [
    "In this example, we will try to recognize nicotine products. Model will recognize: Product Type, Product Package Type, Brand Family, Brand Subfamilly (that let's us define/ recognize specific one and only existing product)"
   ]
  },
  {
   "cell_type": "code",
   "execution_count": null,
   "id": "4cd5dfbe",
   "metadata": {
    "vscode": {
     "languageId": "plaintext"
    }
   },
   "outputs": [],
   "source": [
    "#Importing libraries\n",
    "import numpy as np \n",
    "import pandas as pd \n",
    "import matplotlib.pyplot as plt \n",
    "import seaborn as sns \n",
    "import tensorflow as tf \n"
   ]
  }
 ],
 "metadata": {
  "language_info": {
   "name": "python"
  }
 },
 "nbformat": 4,
 "nbformat_minor": 5
}
